{
 "cells": [
  {
   "cell_type": "markdown",
   "id": "d3395ebd-51e9-4153-8225-7b4f81c257b9",
   "metadata": {},
   "source": [
    "# What is Ollama"
   ]
  },
  {
   "cell_type": "markdown",
   "id": "834606e2-55ac-4a7e-ba7f-9449c1ea01a3",
   "metadata": {},
   "source": [
    "Get up and running with large language models, locally.\n",
    "\n",
    "Run Llama 2, Code Llama, and other models. Customize and create your own.\n",
    "\n",
    "And its compatible with OpenAI's API.\n",
    "\n",
    "Available for macOS, Linux, and Windows (preview)"
   ]
  },
  {
   "cell_type": "markdown",
   "id": "daf36972-4e9c-42cd-9179-63b7ab38688c",
   "metadata": {},
   "source": [
    "# How to setup Ollama"
   ]
  },
  {
   "cell_type": "markdown",
   "id": "458a3558-c3cb-49c5-ae29-62cda3545feb",
   "metadata": {},
   "source": [
    "Download Ollama from here: [Ollama](https://python.langchain.com/docs/langgraph):"
   ]
  },
  {
   "cell_type": "code",
   "execution_count": 1,
   "id": "36966bac-6731-4b58-bdd7-52cf3bac7652",
   "metadata": {},
   "outputs": [],
   "source": [
    "# choose which model you want to use you can use\n",
    "# \" ollama list \" command in command prompt/terminal\n",
    "\n",
    "local_llm = \"llama2:latest\""
   ]
  },
  {
   "cell_type": "markdown",
   "id": "44b58eb0-e7da-42ed-a27c-3f3b940a0cf6",
   "metadata": {},
   "source": [
    "# Get inference from Ollama"
   ]
  },
  {
   "cell_type": "code",
   "execution_count": 2,
   "id": "0d852744-abac-4764-bdf5-bbfd5a888f75",
   "metadata": {},
   "outputs": [],
   "source": [
    "from langchain_community.chat_models import ChatOllama\n",
    "llm = ChatOllama(model=local_llm, temperature=0,)"
   ]
  },
  {
   "cell_type": "code",
   "execution_count": 3,
   "id": "cf82df2d-3f3f-4590-b50b-c35fbf1a7e1e",
   "metadata": {
    "scrolled": true
   },
   "outputs": [
    {
     "name": "stdout",
     "output_type": "stream",
     "text": [
      "\n",
      "Python is the best language for medical decision-making (MD) and pointwise analysis due to its:\n",
      "\n",
      "1. **Easy-to-learn syntax**: Python's simple and intuitive syntax makes it accessible to a wide range of users, including those without extensive programming experience.\n",
      "2. **Fast execution**: Python is known for its fast execution speed, making it ideal for real-time analysis and decision-making.\n",
      "3. **Large community support**: With a vast and active developer community, Python has an extensive library of medical-specific packages and tools, ensuring that there are always resources available for troubleshooting and learning.\n",
      "4. **Flexibility**: Python's versatility allows it to handle various tasks, from data analysis and machine learning to web development and more.\n",
      "5. **Integration with other tools**: Python can seamlessly integrate with other tools and platforms, such as R, MATLAB, and SQL databases, making it a powerful tool for interdisciplinary research and collaboration.\n",
      "6. **Ease of data manipulation**: Python's robust libraries, including NumPy and Pandas, make it easy to manipulate and analyze large datasets, essential in medical decision-making.\n",
      "7. **Machine learning capabilities**: Python's extensive machine learning libraries, such as scikit-learn and TensorFlow, enable the development of sophisticated models for predictive analytics and personalized medicine.\n",
      "8. **Visualization tools**: Python offers a variety of visualization tools, including Matplotlib and Seaborn, which facilitate the creation of informative and attractive visualizations for presentations and reports.\n",
      "9. **Web development capabilities**: Python's web frameworks, such as Django and Flask, allow for the development of interactive and dynamic medical applications, enhancing patient engagement and care.\n",
      "10. **Growing popularity in healthcare**: As machine learning and data analytics become increasingly important in healthcare, Python's growing popularity in these fields ensures that it will continue to be a valuable tool for medical decision-making and pointwise analysis."
     ]
    }
   ],
   "source": [
    "response = llm.stream(\"Why Python is the Best language answer in MD and pointwise and be very consice?\")\n",
    "for token in response:\n",
    "    print(token.content, end=\"\")\n",
    "    "
   ]
  }
 ],
 "metadata": {
  "kernelspec": {
   "display_name": "Python 3 (ipykernel)",
   "language": "python",
   "name": "python3"
  },
  "language_info": {
   "codemirror_mode": {
    "name": "ipython",
    "version": 3
   },
   "file_extension": ".py",
   "mimetype": "text/x-python",
   "name": "python",
   "nbconvert_exporter": "python",
   "pygments_lexer": "ipython3",
   "version": "3.9.0"
  }
 },
 "nbformat": 4,
 "nbformat_minor": 5
}

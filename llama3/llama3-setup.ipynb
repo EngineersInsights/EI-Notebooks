{
 "cells": [
  {
   "cell_type": "markdown",
   "id": "d3395ebd-51e9-4153-8225-7b4f81c257b9",
   "metadata": {},
   "source": [
    "# What is LLama3?"
   ]
  },
  {
   "cell_type": "markdown",
   "id": "834606e2-55ac-4a7e-ba7f-9449c1ea01a3",
   "metadata": {},
   "source": [
    "https://llama.meta.com/llama3/\n",
    "\n",
    "\n",
    "LLama3 is powerful LLM by meta its 7B is outperforming the top performer from Llama2\n",
    "\n",
    "Good thing is LLama3 is available in Ollama"
   ]
  },
  {
   "cell_type": "markdown",
   "id": "daf36972-4e9c-42cd-9179-63b7ab38688c",
   "metadata": {},
   "source": [
    "# How to setup Ollama"
   ]
  },
  {
   "cell_type": "markdown",
   "id": "458a3558-c3cb-49c5-ae29-62cda3545feb",
   "metadata": {},
   "source": [
    "Download Ollama from here: [Ollama](https://python.langchain.com/docs/langgraph):"
   ]
  },
  {
   "cell_type": "code",
   "execution_count": 1,
   "id": "36966bac-6731-4b58-bdd7-52cf3bac7652",
   "metadata": {},
   "outputs": [],
   "source": [
    "# choose which model you want to use you can use\n",
    "# \" ollama list \" command in command prompt/terminal\n",
    "\n",
    "local_llm = \"llama3:latest\""
   ]
  },
  {
   "cell_type": "markdown",
   "id": "44b58eb0-e7da-42ed-a27c-3f3b940a0cf6",
   "metadata": {},
   "source": [
    "# Get inference from Ollama"
   ]
  },
  {
   "cell_type": "code",
   "execution_count": 2,
   "id": "0d852744-abac-4764-bdf5-bbfd5a888f75",
   "metadata": {},
   "outputs": [],
   "source": [
    "from langchain_community.chat_models import ChatOllama\n",
    "llm = ChatOllama(model=local_llm, temperature=0,)"
   ]
  },
  {
   "cell_type": "code",
   "execution_count": 7,
   "id": "cf82df2d-3f3f-4590-b50b-c35fbf1a7e1e",
   "metadata": {
    "scrolled": true
   },
   "outputs": [
    {
     "name": "stdout",
     "output_type": "stream",
     "text": [
      "MMLU stands for Masked Language Modeling with Unsupervised Learning, which is a key component of Large Language Models (LLMs). Here's a structured answer:\n",
      "\n",
      "**What is MMLU?**\n",
      "\n",
      "* **Masked Language Modeling**: A type of language modeling where some input tokens are randomly replaced with a special [MASK] token.\n",
      "* **Unsupervised Learning**: The model learns to predict the original tokens without any labeled data or supervision.\n",
      "\n",
      "**How does MMLU work in LLMs?**\n",
      "\n",
      "1. **Input Tokenization**: The input text is tokenized into subwords (smaller units of words).\n",
      "2. **Masking**: A portion of the input tokens are randomly replaced with [MASK] tokens.\n",
      "3. **Model Prediction**: The model predicts the original tokens for the masked positions.\n",
      "4. **Loss Calculation**: The difference between the predicted and actual tokens is calculated as a loss function (e.g., cross-entropy).\n",
      "5. **Backpropagation**: The loss is backpropagated through the model to update its parameters.\n",
      "6. **Training**: The process is repeated multiple times with different inputs, and the model is trained until convergence.\n",
      "\n",
      "**Benefits of MMLU in LLMs**\n",
      "\n",
      "1. **Improved Language Understanding**: MMLU helps the model learn to represent language in a more nuanced way, capturing subtle relationships between words.\n",
      "2. **Robustness to Noise**: The unsupervised learning aspect makes the model more robust to noisy or ambiguous input data.\n",
      "3. **Efficient Training**: MMLU can be trained using large amounts of unlabeled text data, making it a cost-effective approach.\n",
      "\n",
      "**In summary**, MMLU is a crucial component of LLMs that enables them to learn complex language patterns and relationships through masked language modeling with unsupervised learning."
     ]
    }
   ],
   "source": [
    "response = llm.stream(\"What is MMLU in LLMs? Answer in structured way.\")\n",
    "for token in response:\n",
    "    print(token.content, end=\"\")\n",
    "    "
   ]
  },
  {
   "cell_type": "code",
   "execution_count": null,
   "id": "86937910-c84a-4f29-89b4-e7982dfe4787",
   "metadata": {},
   "outputs": [],
   "source": []
  },
  {
   "cell_type": "code",
   "execution_count": null,
   "id": "3624560d-0042-44aa-9adf-2114e2fad7c3",
   "metadata": {},
   "outputs": [],
   "source": []
  }
 ],
 "metadata": {
  "kernelspec": {
   "display_name": "Python 3 (ipykernel)",
   "language": "python",
   "name": "python3"
  },
  "language_info": {
   "codemirror_mode": {
    "name": "ipython",
    "version": 3
   },
   "file_extension": ".py",
   "mimetype": "text/x-python",
   "name": "python",
   "nbconvert_exporter": "python",
   "pygments_lexer": "ipython3",
   "version": "3.9.0"
  }
 },
 "nbformat": 4,
 "nbformat_minor": 5
}

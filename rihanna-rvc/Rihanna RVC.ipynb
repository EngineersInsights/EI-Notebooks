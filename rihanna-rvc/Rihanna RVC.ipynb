{
 "cells": [
  {
   "cell_type": "markdown",
   "id": "da3a7c80-a8ac-4072-ae25-74538be10015",
   "metadata": {},
   "source": [
    "# Rihanna\n",
    "\n",
    "![Rihanna](https://people.com/thmb/XREkx07BqlsGMtYPt5OYOvyi8xQ=/1500x0/filters:no_upscale():max_bytes(150000):strip_icc():focal(978x368:980x370)/Rihanna-Indian-Wedding-030224-01-6aad1091db07413badf36680e1cc0392.jpg)\n",
    "\n",
    "Rihanna is a renowned singer, actress, and businesswoman known for her hit songs and distinctive style.\n",
    "We will see how we will make our voice like Rihanna's using RVC.\n"
   ]
  },
  {
   "cell_type": "markdown",
   "id": "19986a43-c0d1-4d63-84ec-366a02c7b0a6",
   "metadata": {},
   "source": [
    "### Step 1:"
   ]
  },
  {
   "cell_type": "markdown",
   "id": "1e260ea2-90d5-42a2-9b2c-71b645c254e0",
   "metadata": {},
   "source": [
    "https://huggingface.co/lj1995/VoiceConversionWebUI/tree/main\n",
    "\n",
    "Click on this [link](https://en.wikipedia.org/wiki/Rihanna) and download file with name : RVC-beta.7z\n",
    "\n",
    "OR\n",
    "\n",
    "Click [here](https://huggingface.co/lj1995/VoiceConversionWebUI/resolve/main/RVC-beta.7z?download=true).<<-- This link may change in the future.\n"
   ]
  },
  {
   "cell_type": "markdown",
   "id": "ec98b0d5-c2d1-42a3-b766-4674e0789c0b",
   "metadata": {},
   "source": [
    "### Step 2:"
   ]
  },
  {
   "cell_type": "markdown",
   "id": "dce46c17-c1b2-490d-bfee-e305bd316902",
   "metadata": {},
   "source": [
    "- Put it in one organized folder. Now download and install 7zip using [7zip](https://www.7-zip.org).\n",
    "- Extract using 7-zip"
   ]
  },
  {
   "cell_type": "markdown",
   "id": "e8c3c3f2-4231-4483-97d3-7f3214429d6c",
   "metadata": {},
   "source": [
    "### Step 3\n",
    "\n",
    "- Run file named go-web.bat\n",
    "- Also use this guide for more details : Explainatory Guide \n",
    "- Download model for Rihanna from : [Rihannas Model](https://www.dropbox.com/s/oz4vt1f6zkng73c/Rihanna%20%28RVC%29%20Unknown%20Steps.zip?dl=0)\n",
    "- Put this file with .pth extension in the weights folder."
   ]
  },
  {
   "cell_type": "markdown",
   "id": "d677641e-fa18-4cd2-84fc-526f277f8ca7",
   "metadata": {},
   "source": [
    "### Step 4"
   ]
  },
  {
   "cell_type": "markdown",
   "id": "51bf96db-7492-46f1-b77d-853035a322f9",
   "metadata": {},
   "source": [
    "- Go to inference tab and enter your recording select Rihannas model and convert. You will get the result on your screen!!"
   ]
  },
  {
   "cell_type": "markdown",
   "id": "60b24804-1cab-4c5a-9be3-4f154bfa7a75",
   "metadata": {},
   "source": [
    "If you find any challenges DM us on [Instagram](https://www.instagram.com/engineers_insights/)\n",
    "\n",
    "We will resolve your query."
   ]
  }
 ],
 "metadata": {
  "kernelspec": {
   "display_name": "Python 3 (ipykernel)",
   "language": "python",
   "name": "python3"
  },
  "language_info": {
   "codemirror_mode": {
    "name": "ipython",
    "version": 3
   },
   "file_extension": ".py",
   "mimetype": "text/x-python",
   "name": "python",
   "nbconvert_exporter": "python",
   "pygments_lexer": "ipython3",
   "version": "3.9.0"
  }
 },
 "nbformat": 4,
 "nbformat_minor": 5
}
